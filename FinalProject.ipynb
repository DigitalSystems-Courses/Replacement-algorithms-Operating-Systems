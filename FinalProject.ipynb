{
 "cells": [
  {
   "cell_type": "code",
   "execution_count": 1,
   "id": "polish-viewer",
   "metadata": {},
   "outputs": [
    {
     "name": "stdout",
     "output_type": "stream",
     "text": [
      "Original Dataframe\n",
      "               0    1    2    3    4    5    6    7    8    9\n",
      "String Refs                                                  \n",
      "Frame0       0.0  0.0  0.0  0.0  0.0  0.0  0.0  0.0  0.0  0.0\n",
      "Frame1       0.0  0.0  0.0  0.0  0.0  0.0  0.0  0.0  0.0  0.0\n",
      "Frame2       0.0  0.0  0.0  0.0  0.0  0.0  0.0  0.0  0.0  0.0\n",
      "Frame3       0.0  0.0  0.0  0.0  0.0  0.0  0.0  0.0  0.0  0.0\n",
      "Frame4       0.0  0.0  0.0  0.0  0.0  0.0  0.0  0.0  0.0  0.0\n",
      "Fallos       0.0  0.0  0.0  0.0  0.0  0.0  0.0  0.0  0.0  0.0\n",
      "\n",
      " New Dataframe\n",
      "                0     1     2     3     4     5     6     7     8     9\n",
      "String Refs                                                            \n",
      "Frame0       69.0  69.0  69.0  69.0  69.0  77.0  77.0  77.0  77.0  77.0\n",
      "Frame1        0.0  81.0  81.0  81.0  81.0  81.0  84.0  84.0  84.0  84.0\n",
      "Frame2        0.0   0.0  82.0  82.0  82.0  82.0  82.0  81.0  81.0  81.0\n",
      "Frame3        0.0   0.0   0.0  85.0  85.0  85.0  85.0  85.0  68.0  68.0\n",
      "Frame4        0.0   0.0   0.0   0.0  71.0  71.0  71.0  71.0  71.0  73.0\n",
      "Fallos        1.0   1.0   1.0   1.0   1.0   1.0   1.0   1.0   1.0   1.0\n"
     ]
    }
   ],
   "source": [
    "import pandas as pd\n",
    "import numpy as np\n",
    "import random\n",
    "import string\n",
    "\n",
    "processesi = list(range(10))\n",
    "dictprocess = {0: random.choice(string.ascii_uppercase),1: random.choice(string.ascii_uppercase),2: random.choice(string.ascii_uppercase),3:random.choice(string.ascii_uppercase),4:random.choice(string.ascii_uppercase),5:random.choice(string.ascii_uppercase),6:random.choice(string.ascii_uppercase),7:random.choice(string.ascii_uppercase),8:random.choice(string.ascii_uppercase),9:random.choice(string.ascii_uppercase)}\n",
    "def FIFO(df):\n",
    "    maxnumber = 0\n",
    "    for count, value in enumerate(range(10), start=0):\n",
    "        if count == 0:\n",
    "            df[count][count] = ord(dictprocess[count])\n",
    "            df[count][5] = True\n",
    "        else:              \n",
    "            notnew = True\n",
    "            for countf, value2 in enumerate(range(5), start=0):\n",
    "                if(ord(dictprocess[count]) == df[count-1][countf] and notnew):\n",
    "                    #Sin fallo\n",
    "                    df[count] = df[count-1]\n",
    "                    notnew = False\n",
    "                    df[count][5] = False\n",
    "            if notnew:\n",
    "                df[count] = df[count-1]\n",
    "                notnew2 = True\n",
    "                for countf, value2 in enumerate(range(5), start=0):\n",
    "                    if(df[count][countf] == 0.0 and notnew2):\n",
    "                        #\"Con fallo memoria libre\"\n",
    "                        df[count][5] = True\n",
    "                        df[count][countf] = ord(dictprocess[count])\n",
    "                        notnew2 = False   \n",
    "                if notnew2:\n",
    "                    #Con fallo Fifo analisis\n",
    "                    maxnumber = 0\n",
    "                    for j in range(5):\n",
    "                        countmax = 0\n",
    "                        for i in range(1, count):\n",
    "                            if df[count-i][j] == df[count][j]:\n",
    "                                countmax += 1\n",
    "                        if countmax > maxnumber:\n",
    "                            maxnumber = countmax\n",
    "                            index = j\n",
    "                    df[count][index] = ord(dictprocess[count])\n",
    "                    df[count][5] = True\n",
    "            \n",
    "        \n",
    "            \n",
    "df = pd.DataFrame(np.zeros((5,10)),index='Frame0 Frame1 Frame2 Frame3 Frame4'.split(),columns =processesi )\n",
    "\n",
    "df.index.names= ['String Refs']\n",
    "new_row = pd.Series(data = {0:False,1:False,2:False,3:False,4:False,5:False,6:False,7:False,8:False,9:False},name= 'Fallos')\n",
    "df = df.append(new_row, ignore_index=False)\n",
    "print(\"Original Dataframe\")\n",
    "print(df)\n",
    "FIFO(df)\n",
    "print(\"\\n New Dataframe\")\n",
    "print(df)"
   ]
  },
  {
   "cell_type": "code",
   "execution_count": null,
   "id": "scenic-chuck",
   "metadata": {},
   "outputs": [],
   "source": []
  }
 ],
 "metadata": {
  "kernelspec": {
   "display_name": "Python 3",
   "language": "python",
   "name": "python3"
  },
  "language_info": {
   "codemirror_mode": {
    "name": "ipython",
    "version": 3
   },
   "file_extension": ".py",
   "mimetype": "text/x-python",
   "name": "python",
   "nbconvert_exporter": "python",
   "pygments_lexer": "ipython3",
   "version": "3.6.13"
  }
 },
 "nbformat": 4,
 "nbformat_minor": 5
}
