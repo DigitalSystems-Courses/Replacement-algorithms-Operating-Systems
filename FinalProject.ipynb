{
 "cells": [
  {
   "cell_type": "code",
   "execution_count": null,
   "metadata": {},
   "outputs": [],
   "source": []
  },
  {
   "cell_type": "code",
   "execution_count": 49,
   "metadata": {},
   "outputs": [
    {
     "name": "stdout",
     "output_type": "stream",
     "text": [
      "Original Dataframe\n",
      "                 A      B      C      D      E      F      G      H      I  \\\n",
      "String Refs                                                                  \n",
      "Frame0         NaN    NaN    NaN    NaN    NaN    NaN    NaN    NaN    NaN   \n",
      "Frame1         NaN    NaN    NaN    NaN    NaN    NaN    NaN    NaN    NaN   \n",
      "Frame2         NaN    NaN    NaN    NaN    NaN    NaN    NaN    NaN    NaN   \n",
      "Frame3         NaN    NaN    NaN    NaN    NaN    NaN    NaN    NaN    NaN   \n",
      "Frame4         NaN    NaN    NaN    NaN    NaN    NaN    NaN    NaN    NaN   \n",
      "Fallos       False  False  False  False  False  False  False  False  False   \n",
      "\n",
      "                 J  \n",
      "String Refs         \n",
      "Frame0         NaN  \n",
      "Frame1         NaN  \n",
      "Frame2         NaN  \n",
      "Frame3         NaN  \n",
      "Frame4         NaN  \n",
      "Fallos       False  \n",
      "New Dataframe\n",
      "                 A      B      C      D      E      F      G      H      I  \\\n",
      "String Refs                                                                  \n",
      "Frame0         NaN    NaN    NaN    NaN    NaN    NaN    NaN    NaN    NaN   \n",
      "Frame1         NaN    NaN    NaN    NaN    NaN    NaN    NaN    NaN    NaN   \n",
      "Frame2         NaN    NaN    NaN    NaN    NaN    NaN    NaN    NaN    NaN   \n",
      "Frame3         NaN    NaN    NaN    NaN    NaN    NaN    NaN    NaN    NaN   \n",
      "Frame4         NaN    NaN    NaN    NaN    NaN    NaN    NaN    NaN    NaN   \n",
      "Fallos       False  False  False  False  False  False  False  False  False   \n",
      "\n",
      "                 J  \n",
      "String Refs         \n",
      "Frame0         NaN  \n",
      "Frame1         NaN  \n",
      "Frame2         NaN  \n",
      "Frame3         NaN  \n",
      "Frame4         NaN  \n",
      "Fallos       False  \n"
     ]
    }
   ],
   "source": [
    "import pandas as pd\n",
    "import numpy as np\n",
    "processes = 'A B C D E F G H I J'.split()\n",
    "df = pd.DataFrame(index='Frame0 Frame1 Frame2 Frame3 Frame4'.split(),columns =processes )\n",
    "df.index.names= ['String Refs']\n",
    "new_row = pd.Series(data = {processes[0]:False,processes[1]:False,processes[2]:False,processes[3]:False,processes[4]:False,processes[5]:False,processes[6]:False,processes[7]:False,processes[8]:False,processes[9]:False},name= 'Fallos')\n",
    "df = df.append(new_row, ignore_index=False)\n",
    "print(\"Original Dataframe\")\n",
    "print(df)\n",
    "\n",
    "print(\"New Dataframe\")\n",
    "print(df)\n"
   ]
  },
  {
   "cell_type": "code",
   "execution_count": null,
   "metadata": {},
   "outputs": [],
   "source": []
  }
 ],
 "metadata": {
  "kernelspec": {
   "display_name": "Python 3",
   "language": "python",
   "name": "python3"
  },
  "language_info": {
   "codemirror_mode": {
    "name": "ipython",
    "version": 3
   },
   "file_extension": ".py",
   "mimetype": "text/x-python",
   "name": "python",
   "nbconvert_exporter": "python",
   "pygments_lexer": "ipython3",
   "version": "3.7.3"
  }
 },
 "nbformat": 4,
 "nbformat_minor": 2
}
